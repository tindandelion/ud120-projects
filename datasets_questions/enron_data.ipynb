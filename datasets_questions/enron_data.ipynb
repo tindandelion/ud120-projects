{
 "cells": [
  {
   "cell_type": "code",
   "execution_count": 1,
   "metadata": {
    "collapsed": false
   },
   "outputs": [],
   "source": [
    "import pandas as pd\n",
    "from explore_enron_data import enron_data as ed"
   ]
  },
  {
   "cell_type": "code",
   "execution_count": 2,
   "metadata": {
    "collapsed": true
   },
   "outputs": [],
   "source": [
    "enron = pd.DataFrame(ed).transpose()\n",
    "enron.reset_index(inplace=True)\n",
    "enron.rename(columns={'index': 'name'}, inplace=True)"
   ]
  },
  {
   "cell_type": "code",
   "execution_count": 11,
   "metadata": {
    "collapsed": false
   },
   "outputs": [
    {
     "data": {
      "text/html": [
       "<div>\n",
       "<table border=\"1\" class=\"dataframe\">\n",
       "  <thead>\n",
       "    <tr style=\"text-align: right;\">\n",
       "      <th></th>\n",
       "      <th>name</th>\n",
       "      <th>total_payments</th>\n",
       "    </tr>\n",
       "  </thead>\n",
       "  <tbody>\n",
       "    <tr>\n",
       "      <th>7</th>\n",
       "      <td>BELDEN TIMOTHY N</td>\n",
       "      <td>5501630</td>\n",
       "    </tr>\n",
       "    <tr>\n",
       "      <th>15</th>\n",
       "      <td>BOWEN JR RAYMOND M</td>\n",
       "      <td>2669589</td>\n",
       "    </tr>\n",
       "    <tr>\n",
       "      <th>20</th>\n",
       "      <td>CALGER CHRISTOPHER F</td>\n",
       "      <td>1639297</td>\n",
       "    </tr>\n",
       "    <tr>\n",
       "      <th>22</th>\n",
       "      <td>CAUSEY RICHARD A</td>\n",
       "      <td>1868758</td>\n",
       "    </tr>\n",
       "    <tr>\n",
       "      <th>26</th>\n",
       "      <td>COLWELL WESLEY</td>\n",
       "      <td>1490344</td>\n",
       "    </tr>\n",
       "    <tr>\n",
       "      <th>31</th>\n",
       "      <td>DELAINEY DAVID W</td>\n",
       "      <td>4747979</td>\n",
       "    </tr>\n",
       "    <tr>\n",
       "      <th>43</th>\n",
       "      <td>FASTOW ANDREW S</td>\n",
       "      <td>2424083</td>\n",
       "    </tr>\n",
       "    <tr>\n",
       "      <th>54</th>\n",
       "      <td>GLISAN JR BEN F</td>\n",
       "      <td>1272284</td>\n",
       "    </tr>\n",
       "    <tr>\n",
       "      <th>59</th>\n",
       "      <td>HANNON KEVIN P</td>\n",
       "      <td>288682</td>\n",
       "    </tr>\n",
       "    <tr>\n",
       "      <th>65</th>\n",
       "      <td>HIRKO JOSEPH</td>\n",
       "      <td>91093</td>\n",
       "    </tr>\n",
       "    <tr>\n",
       "      <th>76</th>\n",
       "      <td>KOENIG MARK E</td>\n",
       "      <td>1587421</td>\n",
       "    </tr>\n",
       "    <tr>\n",
       "      <th>77</th>\n",
       "      <td>KOPPER MICHAEL J</td>\n",
       "      <td>2652612</td>\n",
       "    </tr>\n",
       "    <tr>\n",
       "      <th>79</th>\n",
       "      <td>LAY KENNETH L</td>\n",
       "      <td>103559793</td>\n",
       "    </tr>\n",
       "    <tr>\n",
       "      <th>112</th>\n",
       "      <td>RICE KENNETH D</td>\n",
       "      <td>505050</td>\n",
       "    </tr>\n",
       "    <tr>\n",
       "      <th>113</th>\n",
       "      <td>RIEKER PAULA H</td>\n",
       "      <td>1099100</td>\n",
       "    </tr>\n",
       "    <tr>\n",
       "      <th>119</th>\n",
       "      <td>SHELBY REX</td>\n",
       "      <td>2003885</td>\n",
       "    </tr>\n",
       "    <tr>\n",
       "      <th>122</th>\n",
       "      <td>SKILLING JEFFREY K</td>\n",
       "      <td>8682716</td>\n",
       "    </tr>\n",
       "    <tr>\n",
       "      <th>144</th>\n",
       "      <td>YEAGER F SCOTT</td>\n",
       "      <td>360300</td>\n",
       "    </tr>\n",
       "  </tbody>\n",
       "</table>\n",
       "</div>"
      ],
      "text/plain": [
       "                     name total_payments\n",
       "7        BELDEN TIMOTHY N        5501630\n",
       "15     BOWEN JR RAYMOND M        2669589\n",
       "20   CALGER CHRISTOPHER F        1639297\n",
       "22       CAUSEY RICHARD A        1868758\n",
       "26         COLWELL WESLEY        1490344\n",
       "31       DELAINEY DAVID W        4747979\n",
       "43        FASTOW ANDREW S        2424083\n",
       "54        GLISAN JR BEN F        1272284\n",
       "59         HANNON KEVIN P         288682\n",
       "65           HIRKO JOSEPH          91093\n",
       "76          KOENIG MARK E        1587421\n",
       "77       KOPPER MICHAEL J        2652612\n",
       "79          LAY KENNETH L      103559793\n",
       "112        RICE KENNETH D         505050\n",
       "113        RIEKER PAULA H        1099100\n",
       "119            SHELBY REX        2003885\n",
       "122    SKILLING JEFFREY K        8682716\n",
       "144        YEAGER F SCOTT         360300"
      ]
     },
     "execution_count": 11,
     "metadata": {},
     "output_type": "execute_result"
    }
   ],
   "source": [
    "enron[enron['poi'] == True][['name', 'total_payments']]"
   ]
  },
  {
   "cell_type": "code",
   "execution_count": 19,
   "metadata": {
    "collapsed": false
   },
   "outputs": [
    {
     "data": {
      "text/plain": [
       "95"
      ]
     },
     "execution_count": 19,
     "metadata": {},
     "output_type": "execute_result"
    }
   ],
   "source": [
    "len(enron[enron['salary'] != 'NaN'])"
   ]
  },
  {
   "cell_type": "code",
   "execution_count": 23,
   "metadata": {
    "collapsed": false
   },
   "outputs": [
    {
     "data": {
      "text/plain": [
       "111"
      ]
     },
     "execution_count": 23,
     "metadata": {},
     "output_type": "execute_result"
    }
   ],
   "source": [
    "len(enron[enron['email_address'] != 'NaN'])"
   ]
  },
  {
   "cell_type": "code",
   "execution_count": 25,
   "metadata": {
    "collapsed": false
   },
   "outputs": [
    {
     "name": "stdout",
     "output_type": "stream",
     "text": [
      "ALLEN PHILLIP K\n",
      "BADUM JAMES P\n",
      "BANNANTINE JAMES M\n",
      "BAXTER JOHN C\n",
      "BAY FRANKLIN R\n",
      "BAZELIDES PHILIP J\n",
      "BECK SALLY W\n",
      "BELDEN TIMOTHY N\n",
      "BELFER ROBERT\n",
      "BERBERIAN DAVID\n",
      "BERGSIEKER RICHARD P\n",
      "BHATNAGAR SANJAY\n",
      "BIBI PHILIPPE A\n",
      "BLACHMAN JEREMY M\n",
      "BLAKE JR. NORMAN P\n",
      "BOWEN JR RAYMOND M\n",
      "BROWN MICHAEL\n",
      "BUCHANAN HAROLD G\n",
      "BUTTS ROBERT H\n",
      "BUY RICHARD B\n",
      "CALGER CHRISTOPHER F\n",
      "CARTER REBECCA C\n",
      "CAUSEY RICHARD A\n",
      "CHAN RONNIE\n",
      "CHRISTODOULOU DIOMEDES\n",
      "CLINE KENNETH W\n",
      "COLWELL WESLEY\n",
      "CORDES WILLIAM R\n",
      "COX DAVID\n",
      "CUMBERLAND MICHAEL S\n",
      "DEFFNER JOSEPH M\n",
      "DELAINEY DAVID W\n",
      "DERRICK JR. JAMES V\n",
      "DETMERING TIMOTHY J\n",
      "DIETRICH JANET R\n",
      "DIMICHELE RICHARD G\n",
      "DODSON KEITH\n",
      "DONAHUE JR JEFFREY M\n",
      "DUNCAN JOHN H\n",
      "DURAN WILLIAM D\n",
      "ECHOLS JOHN B\n",
      "ELLIOTT STEVEN\n",
      "FALLON JAMES B\n",
      "FASTOW ANDREW S\n",
      "FITZGERALD JAY L\n",
      "FOWLER PEGGY\n",
      "FOY JOE\n",
      "FREVERT MARK A\n",
      "FUGH JOHN L\n",
      "GAHN ROBERT S\n",
      "GARLAND C KEVIN\n",
      "GATHMANN WILLIAM D\n",
      "GIBBS DANA R\n",
      "GILLIS JOHN\n",
      "GLISAN JR BEN F\n",
      "GOLD JOSEPH\n",
      "GRAMM WENDY L\n",
      "GRAY RODNEY\n",
      "HAEDICKE MARK E\n",
      "HANNON KEVIN P\n",
      "HAUG DAVID L\n",
      "HAYES ROBERT E\n",
      "HAYSLETT RODERICK J\n",
      "HERMANN ROBERT J\n",
      "HICKERSON GARY J\n",
      "HIRKO JOSEPH\n",
      "HORTON STANLEY C\n",
      "HUGHES JAMES A\n",
      "HUMPHREY GENE E\n",
      "IZZO LAWRENCE L\n",
      "JACKSON CHARLENE R\n",
      "JAEDICKE ROBERT\n",
      "KAMINSKI WINCENTY J\n",
      "KEAN STEVEN J\n",
      "KISHKILL JOSEPH G\n",
      "KITCHEN LOUISE\n",
      "KOENIG MARK E\n",
      "KOPPER MICHAEL J\n",
      "LAVORATO JOHN J\n",
      "LAY KENNETH L\n",
      "LEFF DANIEL P\n",
      "LEMAISTRE CHARLES\n",
      "LEWIS RICHARD\n",
      "LINDHOLM TOD A\n",
      "LOCKHART EUGENE E\n",
      "LOWRY CHARLES P\n",
      "MARTIN AMANDA K\n",
      "MCCARTY DANNY J\n",
      "MCCLELLAN GEORGE\n",
      "MCCONNELL MICHAEL S\n",
      "MCDONALD REBECCA\n",
      "MCMAHON JEFFREY\n",
      "MENDELSOHN JOHN\n",
      "METTS MARK\n",
      "MEYER JEROME J\n",
      "MEYER ROCKFORD G\n",
      "MORAN MICHAEL P\n",
      "MORDAUNT KRISTINA M\n",
      "MULLER MARK S\n",
      "MURRAY JULIA H\n",
      "NOLES JAMES L\n",
      "OLSON CINDY K\n",
      "OVERDYKE JR JERE C\n",
      "PAI LOU L\n",
      "PEREIRA PAULO V. FERRAZ\n",
      "PICKERING MARK R\n",
      "PIPER GREGORY F\n",
      "PIRO JIM\n",
      "POWERS WILLIAM\n",
      "PRENTICE JAMES\n",
      "REDMOND BRIAN L\n",
      "REYNOLDS LAWRENCE\n",
      "RICE KENNETH D\n",
      "RIEKER PAULA H\n",
      "SAVAGE FRANK\n",
      "SCRIMSHAW MATTHEW\n",
      "SHANKMAN JEFFREY A\n",
      "SHAPIRO RICHARD S\n",
      "SHARP VICTORIA T\n",
      "SHELBY REX\n",
      "SHERRICK JEFFREY B\n",
      "SHERRIFF JOHN R\n",
      "SKILLING JEFFREY K\n",
      "STABLER FRANK\n",
      "SULLIVAN-SHAKLOVITZ COLLEEN\n",
      "SUNDE MARTIN\n",
      "TAYLOR MITCHELL S\n",
      "THE TRAVEL AGENCY IN THE PARK\n",
      "THORN TERENCE H\n",
      "TILNEY ELIZABETH A\n",
      "TOTAL\n",
      "UMANOFF ADAM S\n",
      "URQUHART JOHN A\n",
      "WAKEHAM JOHN\n",
      "WALLS JR ROBERT H\n",
      "WALTERS GARETH W\n",
      "WASAFF GEORGE\n",
      "WESTFAHL RICHARD K\n",
      "WHALEY DAVID A\n",
      "WHALLEY LAWRENCE G\n",
      "WHITE JR THOMAS E\n",
      "WINOKUR JR. HERBERT S\n",
      "WODRASKA JOHN\n",
      "WROBEL BRUCE\n",
      "YEAGER F SCOTT\n",
      "YEAP SOON\n"
     ]
    }
   ],
   "source": [
    "for n in enron['name']:\n",
    "    print n"
   ]
  },
  {
   "cell_type": "code",
   "execution_count": 30,
   "metadata": {
    "collapsed": false
   },
   "outputs": [],
   "source": [
    "(enron['total_payments'] == 'NaN').filter?"
   ]
  },
  {
   "cell_type": "code",
   "execution_count": 45,
   "metadata": {
    "collapsed": false
   },
   "outputs": [
    {
     "data": {
      "text/plain": [
       "0.14383561643835616"
      ]
     },
     "execution_count": 45,
     "metadata": {},
     "output_type": "execute_result"
    }
   ],
   "source": [
    "tp = enron['total_payments']\n",
    "len(tp[tp == 'NaN']) / float(len(tp))"
   ]
  },
  {
   "cell_type": "code",
   "execution_count": 50,
   "metadata": {
    "collapsed": false
   },
   "outputs": [
    {
     "data": {
      "text/plain": [
       "21"
      ]
     },
     "execution_count": 50,
     "metadata": {},
     "output_type": "execute_result"
    }
   ],
   "source": [
    "len(enron[enron['total_payments'] == 'NaN'])"
   ]
  },
  {
   "cell_type": "code",
   "execution_count": 51,
   "metadata": {
    "collapsed": false
   },
   "outputs": [
    {
     "data": {
      "text/plain": [
       "0.1987179487179487"
      ]
     },
     "execution_count": 51,
     "metadata": {},
     "output_type": "execute_result"
    }
   ],
   "source": [
    "31.0 / 156"
   ]
  },
  {
   "cell_type": "code",
   "execution_count": 53,
   "metadata": {
    "collapsed": false
   },
   "outputs": [
    {
     "data": {
      "text/plain": [
       "18"
      ]
     },
     "execution_count": 53,
     "metadata": {},
     "output_type": "execute_result"
    }
   ],
   "source": [
    "len(enron[enron['poi']])"
   ]
  },
  {
   "cell_type": "code",
   "execution_count": null,
   "metadata": {
    "collapsed": true
   },
   "outputs": [],
   "source": []
  }
 ],
 "metadata": {
  "anaconda-cloud": {},
  "kernelspec": {
   "display_name": "Python [conda root]",
   "language": "python",
   "name": "conda-root-py"
  },
  "language_info": {
   "codemirror_mode": {
    "name": "ipython",
    "version": 2
   },
   "file_extension": ".py",
   "mimetype": "text/x-python",
   "name": "python",
   "nbconvert_exporter": "python",
   "pygments_lexer": "ipython2",
   "version": "2.7.12"
  }
 },
 "nbformat": 4,
 "nbformat_minor": 1
}
