{
 "cells": [
  {
   "cell_type": "code",
   "execution_count": 39,
   "metadata": {
    "collapsed": false
   },
   "outputs": [],
   "source": [
    "import svm_author_id as aid\n",
    "\n",
    "from sklearn.svm import SVC\n",
    "from sklearn.metrics import accuracy_score\n",
    "from time import time\n",
    "\n",
    "import numpy as np"
   ]
  },
  {
   "cell_type": "code",
   "execution_count": 14,
   "metadata": {
    "collapsed": true
   },
   "outputs": [],
   "source": [
    "size = len(aid.features_train)/100\n",
    "features_train = aid.features_train[:size]\n",
    "labels_train = aid.labels_train[:size]"
   ]
  },
  {
   "cell_type": "code",
   "execution_count": 31,
   "metadata": {
    "collapsed": false
   },
   "outputs": [
    {
     "name": "stdout",
     "output_type": "stream",
     "text": [
      "C: 1\n",
      "Time to train: 0.129\n",
      "Time to predict: 1.325\n",
      "Accuracy score: 0.616040955631\n",
      "---\n",
      "C: 10\n",
      "Time to train: 0.122\n",
      "Time to predict: 1.296\n",
      "Accuracy score: 0.616040955631\n",
      "---\n",
      "C: 100\n",
      "Time to train: 0.116\n",
      "Time to predict: 1.309\n",
      "Accuracy score: 0.616040955631\n",
      "---\n",
      "C: 1000\n",
      "Time to train: 0.116\n",
      "Time to predict: 1.390\n",
      "Accuracy score: 0.821387940842\n",
      "---\n",
      "C: 10000\n",
      "Time to train: 0.123\n",
      "Time to predict: 1.056\n",
      "Accuracy score: 0.892491467577\n",
      "---\n"
     ]
    }
   ],
   "source": [
    "for c_value in [1, 10, 100, 1000, 10000]:\n",
    "    print(\"C: \" + str(c_value))\n",
    "    model_svm = SVC(kernel='rbf', C=c_value)\n",
    "\n",
    "    t0 = time()\n",
    "    model_svm.fit(features_train, labels_train)\n",
    "    print(\"Time to train: %.3f\" % (time() - t0))\n",
    "\n",
    "    t0 = time()\n",
    "    labels_pred = model_svm.predict(aid.features_test)\n",
    "    print(\"Time to predict: %.3f\" % (time() - t0))\n",
    "\n",
    "    ascore = accuracy_score(aid.labels_test, labels_pred)\n",
    "    print(\"Accuracy score: \" + str(ascore))\n",
    "    print(\"---\")\n"
   ]
  },
  {
   "cell_type": "code",
   "execution_count": 32,
   "metadata": {
    "collapsed": false
   },
   "outputs": [
    {
     "name": "stdout",
     "output_type": "stream",
     "text": [
      "Time to train: 133.277\n",
      "Time to predict: 14.007\n",
      "Accuracy score: 0.990898748578\n",
      "---\n"
     ]
    }
   ],
   "source": [
    "c_value = 10000.\n",
    "\n",
    "features_train = aid.features_train\n",
    "labels_train = aid.labels_train\n",
    "model_svm = SVC(kernel='rbf', C=c_value)\n",
    "\n",
    "t0 = time()\n",
    "model_svm.fit(features_train, labels_train)\n",
    "print(\"Time to train: %.3f\" % (time() - t0))\n",
    "\n",
    "t0 = time()\n",
    "labels_pred = model_svm.predict(aid.features_test)\n",
    "print(\"Time to predict: %.3f\" % (time() - t0))\n",
    "\n",
    "ascore = accuracy_score(aid.labels_test, labels_pred)\n",
    "print(\"Accuracy score: \" + str(ascore))\n",
    "print(\"---\")"
   ]
  },
  {
   "cell_type": "code",
   "execution_count": 36,
   "metadata": {
    "collapsed": false
   },
   "outputs": [
    {
     "name": "stdout",
     "output_type": "stream",
     "text": [
      "[1]\n",
      "[0]\n",
      "[1]\n"
     ]
    }
   ],
   "source": [
    "features_test = aid.features_test\n",
    "print(model_svm.predict(features_test[10:11]))\n",
    "print(model_svm.predict(features_test[26:27]))\n",
    "print(model_svm.predict(features_test[50:51]))"
   ]
  },
  {
   "cell_type": "code",
   "execution_count": 42,
   "metadata": {
    "collapsed": false
   },
   "outputs": [
    {
     "name": "stdout",
     "output_type": "stream",
     "text": [
      "Chris predictions 877\n"
     ]
    }
   ],
   "source": [
    "chris = np.sum(labels_pred)\n",
    "print(\"Chris predictions \" + str(chris))"
   ]
  },
  {
   "cell_type": "code",
   "execution_count": null,
   "metadata": {
    "collapsed": true
   },
   "outputs": [],
   "source": []
  }
 ],
 "metadata": {
  "anaconda-cloud": {},
  "kernelspec": {
   "display_name": "Python [conda root]",
   "language": "python",
   "name": "conda-root-py"
  },
  "language_info": {
   "codemirror_mode": {
    "name": "ipython",
    "version": 2
   },
   "file_extension": ".py",
   "mimetype": "text/x-python",
   "name": "python",
   "nbconvert_exporter": "python",
   "pygments_lexer": "ipython2",
   "version": "2.7.12"
  }
 },
 "nbformat": 4,
 "nbformat_minor": 0
}
